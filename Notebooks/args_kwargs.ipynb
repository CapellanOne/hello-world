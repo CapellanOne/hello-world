{
 "cells": [
  {
   "cell_type": "code",
   "execution_count": 1,
   "metadata": {},
   "outputs": [],
   "source": [
    "def myfunc(a,b,c=0,d=0,e=0):\n",
    "    # Return 5% of sum of a, b, c, d and e\n",
    "    return sum((a,b,c,d,e)) * 0.05"
   ]
  },
  {
   "cell_type": "code",
   "execution_count": 2,
   "metadata": {},
   "outputs": [
    {
     "data": {
      "text/plain": [
       "10.0"
      ]
     },
     "execution_count": 2,
     "metadata": {},
     "output_type": "execute_result"
    }
   ],
   "source": [
    "myfunc(40,60,100)"
   ]
  },
  {
   "cell_type": "code",
   "execution_count": 3,
   "metadata": {},
   "outputs": [],
   "source": [
    "def myfunc(*args):\n",
    "    # Return 5% of sum of entered values\n",
    "    return sum(args) * 0.05"
   ]
  },
  {
   "cell_type": "code",
   "execution_count": 4,
   "metadata": {},
   "outputs": [
    {
     "data": {
      "text/plain": [
       "30.0"
      ]
     },
     "execution_count": 4,
     "metadata": {},
     "output_type": "execute_result"
    }
   ],
   "source": [
    "myfunc(40,60,200,300)"
   ]
  },
  {
   "cell_type": "code",
   "execution_count": 5,
   "metadata": {},
   "outputs": [],
   "source": [
    "def myfunc(*args):\n",
    "    for item in args:\n",
    "        print(item)\n",
    "    \n",
    "    print(args) # shows that values are saved as tuples"
   ]
  },
  {
   "cell_type": "code",
   "execution_count": 6,
   "metadata": {},
   "outputs": [
    {
     "name": "stdout",
     "output_type": "stream",
     "text": [
      "40\n",
      "60\n",
      "200\n",
      "300\n",
      "(40, 60, 200, 300)\n"
     ]
    }
   ],
   "source": [
    "myfunc(40,60,200,300)"
   ]
  },
  {
   "cell_type": "code",
   "execution_count": 7,
   "metadata": {},
   "outputs": [],
   "source": [
    "def myfunc(**kwargs):\n",
    "    if 'fruit' in kwargs:\n",
    "        print('My fruit of choice is {}'.format(kwargs['fruit']))\n",
    "    else:\n",
    "        print('I did not find any fruit here')\n",
    "    \n",
    "    print(kwargs) # shows that values are saved as a dictionary"
   ]
  },
  {
   "cell_type": "code",
   "execution_count": 8,
   "metadata": {},
   "outputs": [
    {
     "name": "stdout",
     "output_type": "stream",
     "text": [
      "My fruit of choice is apple\n",
      "{'fruit': 'apple'}\n"
     ]
    }
   ],
   "source": [
    "myfunc(fruit='apple')"
   ]
  },
  {
   "cell_type": "code",
   "execution_count": 9,
   "metadata": {},
   "outputs": [
    {
     "name": "stdout",
     "output_type": "stream",
     "text": [
      "I did not find any fruit here\n",
      "{'veggie': 'tomato'}\n"
     ]
    }
   ],
   "source": [
    "myfunc(veggie='tomato')"
   ]
  },
  {
   "cell_type": "code",
   "execution_count": 10,
   "metadata": {},
   "outputs": [
    {
     "name": "stdout",
     "output_type": "stream",
     "text": [
      "My fruit of choice is apple\n",
      "{'fruit': 'apple', 'veggie': 'tomato'}\n"
     ]
    }
   ],
   "source": [
    "myfunc(fruit='apple',veggie='tomato')"
   ]
  },
  {
   "cell_type": "code",
   "execution_count": 11,
   "metadata": {},
   "outputs": [],
   "source": [
    "def myfunc(*args,**kwargs):\n",
    "    print('I would like {} {}'.format(args[0],kwargs['food']))\n",
    "\n",
    "    print(args)\n",
    "    print(kwargs)"
   ]
  },
  {
   "cell_type": "code",
   "execution_count": 12,
   "metadata": {},
   "outputs": [
    {
     "name": "stdout",
     "output_type": "stream",
     "text": [
      "I would like 10 eggs\n",
      "(10, 20, 30)\n",
      "{'fruit': 'apple', 'food': 'eggs', 'animal': 'cat'}\n"
     ]
    }
   ],
   "source": [
    "myfunc(10,20,30,fruit='apple',food='eggs',animal='cat')"
   ]
  }
 ],
 "metadata": {
  "kernelspec": {
   "display_name": "Python 3.10.5 64-bit",
   "language": "python",
   "name": "python3"
  },
  "language_info": {
   "codemirror_mode": {
    "name": "ipython",
    "version": 3
   },
   "file_extension": ".py",
   "mimetype": "text/x-python",
   "name": "python",
   "nbconvert_exporter": "python",
   "pygments_lexer": "ipython3",
   "version": "3.10.5"
  },
  "orig_nbformat": 4,
  "vscode": {
   "interpreter": {
    "hash": "26de051ba29f2982a8de78e945f0abaf191376122a1563185a90213a26c5da77"
   }
  }
 },
 "nbformat": 4,
 "nbformat_minor": 2
}
