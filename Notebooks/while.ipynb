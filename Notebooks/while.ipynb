{
 "cells": [
  {
   "cell_type": "code",
   "execution_count": 1,
   "metadata": {},
   "outputs": [
    {
     "name": "stdout",
     "output_type": "stream",
     "text": [
      "The current value of X is 0\n",
      "The current value of X is 1\n",
      "The current value of X is 2\n",
      "The current value of X is 3\n",
      "The current value of X is 4\n",
      "X is not less than 5\n"
     ]
    }
   ],
   "source": [
    "x = 0\n",
    "\n",
    "while x < 5:\n",
    "    print(f'The current value of X is {x}')\n",
    "    x += 1\n",
    "    # x +=1 is the same as x = x + 1\n",
    "else:\n",
    "    print('X is not less than 5')"
   ]
  },
  {
   "cell_type": "code",
   "execution_count": 2,
   "metadata": {},
   "outputs": [],
   "source": [
    "# pass, continue, break\n",
    "\n",
    "# pass: does nothing\n",
    "# continue: goes to the top of the closest enclosing loop\n",
    "# break: breaks out of the current closest enclosing loop "
   ]
  },
  {
   "cell_type": "code",
   "execution_count": 3,
   "metadata": {},
   "outputs": [
    {
     "name": "stdout",
     "output_type": "stream",
     "text": [
      " End of my script\n"
     ]
    }
   ],
   "source": [
    "x= [1,2,3]\n",
    "\n",
    "for item in x:\n",
    "    # pass prevents error in incorrectly formatted loop\n",
    "    pass\n",
    "\n",
    "print(' End of my script')"
   ]
  },
  {
   "cell_type": "code",
   "execution_count": 4,
   "metadata": {},
   "outputs": [
    {
     "name": "stdout",
     "output_type": "stream",
     "text": [
      "S\n",
      "m\n",
      "m\n",
      "y\n"
     ]
    }
   ],
   "source": [
    "mystring = 'Sammy'\n",
    "\n",
    "for letter in mystring:\n",
    "    if letter == 'a':\n",
    "        # continue skips and goes to top of loop\n",
    "        continue\n",
    "    print(letter)"
   ]
  },
  {
   "cell_type": "code",
   "execution_count": 5,
   "metadata": {},
   "outputs": [
    {
     "name": "stdout",
     "output_type": "stream",
     "text": [
      "0\n",
      "1\n"
     ]
    }
   ],
   "source": [
    "x = 0\n",
    "\n",
    "while x < 5:\n",
    "    if x == 2:\n",
    "        # break ends the loop\n",
    "        break\n",
    "    print(x)\n",
    "    x +=1"
   ]
  }
 ],
 "metadata": {
  "kernelspec": {
   "display_name": "Python 3.10.5 64-bit",
   "language": "python",
   "name": "python3"
  },
  "language_info": {
   "codemirror_mode": {
    "name": "ipython",
    "version": 3
   },
   "file_extension": ".py",
   "mimetype": "text/x-python",
   "name": "python",
   "nbconvert_exporter": "python",
   "pygments_lexer": "ipython3",
   "version": "3.10.5"
  },
  "orig_nbformat": 4,
  "vscode": {
   "interpreter": {
    "hash": "26de051ba29f2982a8de78e945f0abaf191376122a1563185a90213a26c5da77"
   }
  }
 },
 "nbformat": 4,
 "nbformat_minor": 2
}
